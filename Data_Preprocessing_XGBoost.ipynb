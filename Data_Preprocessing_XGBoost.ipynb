{
 "cells": [
  {
   "cell_type": "code",
   "execution_count": 1,
   "id": "1103a6e1",
   "metadata": {},
   "outputs": [],
   "source": [
    "# imports\n",
    "import pickle \n",
    "import pandas as pd\n",
    "import numpy as np"
   ]
  },
  {
   "cell_type": "code",
   "execution_count": 2,
   "id": "e2f469f1",
   "metadata": {},
   "outputs": [],
   "source": [
    "# load generally preprocessed data\n",
    "with open('preprocessed_data/preprocessed_general.pkl', 'rb') as f:\n",
    "    chosen_stocks = pickle.load(f)"
   ]
  },
  {
   "cell_type": "code",
   "execution_count": 3,
   "id": "4ffbca6d",
   "metadata": {},
   "outputs": [
    {
     "data": {
      "text/plain": [
       "(1256, 65)"
      ]
     },
     "execution_count": 3,
     "metadata": {},
     "output_type": "execute_result"
    }
   ],
   "source": [
    "chosen_stocks[2][13].shape"
   ]
  },
  {
   "cell_type": "code",
   "execution_count": 4,
   "id": "19f67dbf",
   "metadata": {},
   "outputs": [],
   "source": [
    "# functin to create df with only lagged values\n",
    "def create_lag_values(data, columns, lag):\n",
    "    df = pd.DataFrame(index=data.index)\n",
    "    for i in range(1, lag + 1):\n",
    "        df[[f\"{col}_lag_{i}\" for col in columns]] = data[columns].shift(i)\n",
    "    return df\n",
    "# different lags for different columns\n",
    "lags_5 = ['close', 'open', 'high', 'low', 'volume', 'vwap']\n",
    "lags_3 = ['rsi', 'roc_9', 'roc_14', 'roc_21', 'macd', 'macd_signal', 'macd_hist',\n",
    "          'stoch_%K', 'stoch_%D', 'stoch_diff', 'cci', 'plus_di', 'minus_di', 'dx', 'adx',\n",
    "          'obv', 'obv_norm', 'obv_momentum', 'vpt', 'vpt_norm', 'vpt_momentum']\n",
    "\n",
    "# Create lists to hold the data all bins\n",
    "preprocessed_Tree_data = []\n",
    "for i in range(len(chosen_stocks)):\n",
    "    preprocessed_Tree_bin = []\n",
    "    for j in range(len(chosen_stocks[i])):\n",
    "        chosen_stocks[i][j].drop(columns=['symbol'], inplace=True)\n",
    "        # create df with lagged values\n",
    "        lags_5_df = create_lag_values(chosen_stocks[i][j], lags_5, 5)\n",
    "        lags_3_df = create_lag_values(chosen_stocks[i][j], lags_3, 3)\n",
    "\n",
    "        # append lagged values to the original df\n",
    "        chosen_stocks[i][j] = pd.concat([chosen_stocks[i][j], lags_5_df, lags_3_df], axis=1)\n",
    "        chosen_stocks[i][j].dropna(inplace=True)\n",
    "\n",
    "        # split the data into train 0.9, validation 0.1 and test 0.1 sets\n",
    "        n = len(chosen_stocks[i][j])\n",
    "        end_train = int(n * 0.8)\n",
    "        end_val = int(n * 0.9)\n",
    "\n",
    "        train_df = chosen_stocks[i][j].iloc[:end_train]\n",
    "        val_df = chosen_stocks[i][j].iloc[end_train:end_val]\n",
    "        test_df = chosen_stocks[i][j].iloc[end_val:]\n",
    "\n",
    "        # prepare input and target variables\n",
    "        X_train = train_df.drop(columns=['target', 'target_ret', 'target_ret_log'])\n",
    "        y_train = train_df['target_ret']\n",
    "        X_validation = val_df.drop(columns=['target', 'target_ret', 'target_ret_log'])\n",
    "        y_validation = val_df['target_ret']\n",
    "        X_test = test_df.drop(columns=['target', 'target_ret', 'target_ret_log'])\n",
    "        y_test = test_df['target_ret']\n",
    "\n",
    "        # store the preprocessed data\n",
    "        entry = (X_train, y_train, X_validation, y_validation, X_test, y_test)\n",
    "        preprocessed_Tree_bin.append(entry)\n",
    "    preprocessed_Tree_data.append(preprocessed_Tree_bin)     \n",
    "\n",
    "with open(f'preprocessed_data/preprocessed_XGBoost.pkl', 'wb') as f:\n",
    "    pickle.dump(preprocessed_Tree_data, f)"
   ]
  }
 ],
 "metadata": {
  "kernelspec": {
   "display_name": "base",
   "language": "python",
   "name": "python3"
  },
  "language_info": {
   "codemirror_mode": {
    "name": "ipython",
    "version": 3
   },
   "file_extension": ".py",
   "mimetype": "text/x-python",
   "name": "python",
   "nbconvert_exporter": "python",
   "pygments_lexer": "ipython3",
   "version": "3.12.9"
  }
 },
 "nbformat": 4,
 "nbformat_minor": 5
}
